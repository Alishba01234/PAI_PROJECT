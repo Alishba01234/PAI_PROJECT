{
  "nbformat": 4,
  "nbformat_minor": 0,
  "metadata": {
    "colab": {
      "provenance": [],
      "include_colab_link": true
    },
    "kernelspec": {
      "name": "python3",
      "display_name": "Python 3"
    },
    "language_info": {
      "name": "python"
    }
  },
  "cells": [
    {
      "cell_type": "markdown",
      "metadata": {
        "id": "view-in-github",
        "colab_type": "text"
      },
      "source": [
        "<a href=\"https://colab.research.google.com/github/Alishba01234/PAI_PROJECT/blob/main/PAI.ipynb\" target=\"_parent\"><img src=\"https://colab.research.google.com/assets/colab-badge.svg\" alt=\"Open In Colab\"/></a>"
      ]
    },
    {
      "cell_type": "code",
      "execution_count": null,
      "metadata": {
        "id": "-dNndaHZYgr-"
      },
      "outputs": [],
      "source": [
        "from google.colab import files\n",
        "uploaded = files.upload()"
      ]
    },
    {
      "cell_type": "code",
      "source": [
        "import pandas as pd\n",
        "import numpy as np\n",
        "import matplotlib.pyplot as plt\n",
        "import seaborn as sns"
      ],
      "metadata": {
        "id": "f_n1cyo3ZyqE"
      },
      "execution_count": null,
      "outputs": []
    },
    {
      "cell_type": "code",
      "source": [
        "pesticides_df = pd.read_excel('pesticidesData.xls', usecols=range(16))\n",
        "df = pesticides_df.copy()\n",
        "df.head()"
      ],
      "metadata": {
        "id": "acIMzHVzZ2lI"
      },
      "execution_count": null,
      "outputs": []
    },
    {
      "cell_type": "code",
      "source": [
        "df['Total Value (Rs.)'] = df['Quantity (lit/kg)']*df['C & F Value']*df['Ex.Rate (US$)']"
      ],
      "metadata": {
        "id": "yL6cAcEJHL9z"
      },
      "execution_count": null,
      "outputs": []
    },
    {
      "cell_type": "code",
      "source": [
        "df.drop(columns=['S.No.','R.No.','Ex.Rate (US$)'],inplace=True)\n",
        "df['Brand Name'].fillna(\"Form-16\",inplace=True)"
      ],
      "metadata": {
        "id": "anxu0xUwZ3a9"
      },
      "execution_count": null,
      "outputs": []
    },
    {
      "cell_type": "code",
      "source": [
        "from dateutil import parser\n",
        "\n",
        "def parse_messy_date(date_str):\n",
        "    try:\n",
        "        parsed_date = parser.parse(date_str, dayfirst=True, fuzzy=True)\n",
        "        return parsed_date.strftime('%Y-%m-%d')\n",
        "    except (ValueError, TypeError):\n",
        "        return np.nan\n",
        "\n",
        "df['Date'] = df['Date'].apply(parse_messy_date)"
      ],
      "metadata": {
        "id": "AOsi-OTdZ9h0"
      },
      "execution_count": null,
      "outputs": []
    },
    {
      "cell_type": "code",
      "source": [
        "df[['Percentage', 'Type']] = df['Formulation'].str.extract(r'(\\d+\\.?\\d*)%\\s*(.*)')\n",
        "\n",
        "# Convert 'Percentage' to numeric (removes % and makes it float)\n",
        "df['Percentage'] = pd.to_numeric(df['Percentage'], errors='coerce')"
      ],
      "metadata": {
        "id": "sEJMOCdmaAev"
      },
      "execution_count": null,
      "outputs": []
    },
    {
      "cell_type": "code",
      "source": [
        "df = df.drop('Formulation', axis=1)\n",
        "df.head()"
      ],
      "metadata": {
        "id": "Kc8Q_lcUGppM"
      },
      "execution_count": null,
      "outputs": []
    },
    {
      "cell_type": "code",
      "source": [
        "df = df.rename(columns={\n",
        "    'Common Name': 'Composition'\n",
        "})"
      ],
      "metadata": {
        "id": "1Hxwbvl5Gp8g"
      },
      "execution_count": null,
      "outputs": []
    },
    {
      "cell_type": "code",
      "source": [
        "df['Category'].value_counts()"
      ],
      "metadata": {
        "id": "3bvvZ0mMGqKZ"
      },
      "execution_count": null,
      "outputs": []
    },
    {
      "cell_type": "code",
      "source": [
        "category_mapping = {\n",
        "    'Herb.': 'Herbicide',\n",
        "    'Fung.': 'Fungicide',\n",
        "    'Insect.': 'Insecticide',\n",
        "    'Insect': 'Insecticide',\n",
        "    'Fumigation': 'Fumigant',\n",
        "    'Fum.': 'Fumigant',\n",
        "    'Acari': 'Acaricide',\n",
        "    'Acaracide': 'Acaricide',\n",
        "    'Acracide': 'Acaricide',\n",
        "}"
      ],
      "metadata": {
        "id": "vLjeOwTcGqU9"
      },
      "execution_count": null,
      "outputs": []
    },
    {
      "cell_type": "code",
      "source": [
        "# Normalize the Category column\n",
        "df['Category'] = df['Category'].replace(category_mapping)"
      ],
      "metadata": {
        "id": "nzrAXO2MGqj7"
      },
      "execution_count": null,
      "outputs": []
    },
    {
      "cell_type": "code",
      "source": [
        "df['Category'].value_counts()"
      ],
      "metadata": {
        "id": "fxB_bvEoGsuh"
      },
      "execution_count": null,
      "outputs": []
    },
    {
      "cell_type": "code",
      "source": [
        "df.head()"
      ],
      "metadata": {
        "id": "eWnNWWkVGt3r"
      },
      "execution_count": null,
      "outputs": []
    },
    {
      "cell_type": "code",
      "source": [
        "df.info()"
      ],
      "metadata": {
        "id": "Iv7V7EOcGuo4"
      },
      "execution_count": null,
      "outputs": []
    }
  ]
}